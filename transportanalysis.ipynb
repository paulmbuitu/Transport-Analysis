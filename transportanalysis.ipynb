{
 "cells": [
  {
   "cell_type": "markdown",
   "metadata": {},
   "source": [
    "## Metro Transport Company Analysis\n",
    "\n",
    "### Introduction\n",
    "Metro Transport Company has asked me to analyze data on their current bus lines to help improve operations. The data includes details on routes, schedules, and passengers.\n",
    "\n",
    "My analysis aims to:\n",
    "\n",
    "* Identify any problematic bus lines that may need to be shut down or improved\n",
    "* Find the lowest revenue bus line to consider changes to improve profitability\n",
    "* Analyze revenue patterns across days of the week to optimize schedules"
   ]
  },
  {
   "cell_type": "markdown",
   "metadata": {},
   "source": [
    "## Data Understanding\n",
    "The data is in 3 tables:\n",
    "### 1. Routes Table:\n",
    "* **bus_num** - the number of the bus line\n",
    "* **intercity** - does the bus line start in one city and end another (y = yes / n = no)\n",
    "* **type**- the type of bus service (express/ regular)\n",
    "* **num_stops** - the number of stops made by the bus\n",
    "* **fare** - the cost of a single bus ticket (the price does not change depending on where the passenger gets on/off the bus)\n"
   ]
  },
  {
   "cell_type": "code",
   "execution_count": 1,
   "metadata": {},
   "outputs": [
    {
     "data": {
      "text/html": [
       "<div>\n",
       "<style scoped>\n",
       "    .dataframe tbody tr th:only-of-type {\n",
       "        vertical-align: middle;\n",
       "    }\n",
       "\n",
       "    .dataframe tbody tr th {\n",
       "        vertical-align: top;\n",
       "    }\n",
       "\n",
       "    .dataframe thead th {\n",
       "        text-align: right;\n",
       "    }\n",
       "</style>\n",
       "<table border=\"1\" class=\"dataframe\">\n",
       "  <thead>\n",
       "    <tr style=\"text-align: right;\">\n",
       "      <th></th>\n",
       "      <th>bus_num</th>\n",
       "      <th>intercity</th>\n",
       "      <th>type</th>\n",
       "      <th>num_stops</th>\n",
       "      <th>fare</th>\n",
       "    </tr>\n",
       "  </thead>\n",
       "  <tbody>\n",
       "    <tr>\n",
       "      <th>0</th>\n",
       "      <td>1</td>\n",
       "      <td>N</td>\n",
       "      <td>regular</td>\n",
       "      <td>17</td>\n",
       "      <td>3.5</td>\n",
       "    </tr>\n",
       "    <tr>\n",
       "      <th>1</th>\n",
       "      <td>2</td>\n",
       "      <td>N</td>\n",
       "      <td>regular</td>\n",
       "      <td>34</td>\n",
       "      <td>3.5</td>\n",
       "    </tr>\n",
       "    <tr>\n",
       "      <th>2</th>\n",
       "      <td>3</td>\n",
       "      <td>N</td>\n",
       "      <td>express</td>\n",
       "      <td>10</td>\n",
       "      <td>5.0</td>\n",
       "    </tr>\n",
       "    <tr>\n",
       "      <th>3</th>\n",
       "      <td>5</td>\n",
       "      <td>Y</td>\n",
       "      <td>express</td>\n",
       "      <td>15</td>\n",
       "      <td>12.5</td>\n",
       "    </tr>\n",
       "    <tr>\n",
       "      <th>4</th>\n",
       "      <td>8</td>\n",
       "      <td>Y</td>\n",
       "      <td>regular</td>\n",
       "      <td>45</td>\n",
       "      <td>10.0</td>\n",
       "    </tr>\n",
       "  </tbody>\n",
       "</table>\n",
       "</div>"
      ],
      "text/plain": [
       "   bus_num intercity     type  num_stops  fare\n",
       "0        1         N  regular         17   3.5\n",
       "1        2         N  regular         34   3.5\n",
       "2        3         N  express         10   5.0\n",
       "3        5         Y  express         15  12.5\n",
       "4        8         Y  regular         45  10.0"
      ]
     },
     "execution_count": 1,
     "metadata": {},
     "output_type": "execute_result"
    }
   ],
   "source": [
    "import pandas as pd\n",
    "#Reading the routes sheet from the excel file\n",
    "df_routes = pd.read_excel('Assessment_Data_Sababi.xlsx', sheet_name='Routes')\n",
    "df_routes.head()"
   ]
  },
  {
   "cell_type": "markdown",
   "metadata": {},
   "source": [
    "\n",
    "FOR EXAMPLE: Bus line 63 is a regular bus route with 34 stops and does not cross city lines. The fare of bus line 63 is $3.50.\n"
   ]
  },
  {
   "cell_type": "code",
   "execution_count": 2,
   "metadata": {},
   "outputs": [
    {
     "data": {
      "text/html": [
       "<div>\n",
       "<style scoped>\n",
       "    .dataframe tbody tr th:only-of-type {\n",
       "        vertical-align: middle;\n",
       "    }\n",
       "\n",
       "    .dataframe tbody tr th {\n",
       "        vertical-align: top;\n",
       "    }\n",
       "\n",
       "    .dataframe thead th {\n",
       "        text-align: right;\n",
       "    }\n",
       "</style>\n",
       "<table border=\"1\" class=\"dataframe\">\n",
       "  <thead>\n",
       "    <tr style=\"text-align: right;\">\n",
       "      <th></th>\n",
       "      <th>bus_num</th>\n",
       "      <th>intercity</th>\n",
       "      <th>type</th>\n",
       "      <th>num_stops</th>\n",
       "      <th>fare</th>\n",
       "    </tr>\n",
       "  </thead>\n",
       "  <tbody>\n",
       "    <tr>\n",
       "      <th>18</th>\n",
       "      <td>63</td>\n",
       "      <td>N</td>\n",
       "      <td>regular</td>\n",
       "      <td>34</td>\n",
       "      <td>3.5</td>\n",
       "    </tr>\n",
       "  </tbody>\n",
       "</table>\n",
       "</div>"
      ],
      "text/plain": [
       "    bus_num intercity     type  num_stops  fare\n",
       "18       63         N  regular         34   3.5"
      ]
     },
     "execution_count": 2,
     "metadata": {},
     "output_type": "execute_result"
    }
   ],
   "source": [
    "# Getting Bus line 63 info\n",
    "df_routes[df_routes['bus_num'] == 63]"
   ]
  },
  {
   "cell_type": "markdown",
   "metadata": {},
   "source": [
    "### 2. Times Table:\n",
    "* **time_of_week** - is it a weekday (Mon - Fri) or weekend day (Sat - Sun)\n",
    "* **bus_num** - the number of the bus line\n",
    "* **first_bus** - the departure time of the first bus of the day (same in both directions)\n",
    "* **last_bus** - the departure time of the last bus of the day (same in both directions)\n",
    "* **frequency** - the number of times the bus completes its full route each day.\n"
   ]
  },
  {
   "cell_type": "code",
   "execution_count": 3,
   "metadata": {},
   "outputs": [
    {
     "data": {
      "text/html": [
       "<div>\n",
       "<style scoped>\n",
       "    .dataframe tbody tr th:only-of-type {\n",
       "        vertical-align: middle;\n",
       "    }\n",
       "\n",
       "    .dataframe tbody tr th {\n",
       "        vertical-align: top;\n",
       "    }\n",
       "\n",
       "    .dataframe thead th {\n",
       "        text-align: right;\n",
       "    }\n",
       "</style>\n",
       "<table border=\"1\" class=\"dataframe\">\n",
       "  <thead>\n",
       "    <tr style=\"text-align: right;\">\n",
       "      <th></th>\n",
       "      <th>time_of_week</th>\n",
       "      <th>bus_num</th>\n",
       "      <th>first_bus</th>\n",
       "      <th>last_bus</th>\n",
       "      <th>frequency</th>\n",
       "    </tr>\n",
       "  </thead>\n",
       "  <tbody>\n",
       "    <tr>\n",
       "      <th>0</th>\n",
       "      <td>weekday</td>\n",
       "      <td>1</td>\n",
       "      <td>05:00:00</td>\n",
       "      <td>22:30:00</td>\n",
       "      <td>10</td>\n",
       "    </tr>\n",
       "    <tr>\n",
       "      <th>1</th>\n",
       "      <td>weekday</td>\n",
       "      <td>2</td>\n",
       "      <td>05:30:00</td>\n",
       "      <td>22:45:00</td>\n",
       "      <td>15</td>\n",
       "    </tr>\n",
       "    <tr>\n",
       "      <th>2</th>\n",
       "      <td>weekday</td>\n",
       "      <td>3</td>\n",
       "      <td>05:15:00</td>\n",
       "      <td>22:30:00</td>\n",
       "      <td>9</td>\n",
       "    </tr>\n",
       "    <tr>\n",
       "      <th>3</th>\n",
       "      <td>weekday</td>\n",
       "      <td>5</td>\n",
       "      <td>06:00:00</td>\n",
       "      <td>23:00:00</td>\n",
       "      <td>20</td>\n",
       "    </tr>\n",
       "    <tr>\n",
       "      <th>4</th>\n",
       "      <td>weekday</td>\n",
       "      <td>8</td>\n",
       "      <td>06:25:00</td>\n",
       "      <td>23:05:00</td>\n",
       "      <td>40</td>\n",
       "    </tr>\n",
       "  </tbody>\n",
       "</table>\n",
       "</div>"
      ],
      "text/plain": [
       "  time_of_week  bus_num first_bus  last_bus  frequency\n",
       "0      weekday        1  05:00:00  22:30:00         10\n",
       "1      weekday        2  05:30:00  22:45:00         15\n",
       "2      weekday        3  05:15:00  22:30:00          9\n",
       "3      weekday        5  06:00:00  23:00:00         20\n",
       "4      weekday        8  06:25:00  23:05:00         40"
      ]
     },
     "execution_count": 3,
     "metadata": {},
     "output_type": "execute_result"
    }
   ],
   "source": [
    "#Reading the Times sheet from the dataset\n",
    "df_times = pd.read_excel('Assessment_Data_Sababi.xlsx', sheet_name='Times')\n",
    "df_times.head()"
   ]
  },
  {
   "cell_type": "markdown",
   "metadata": {},
   "source": [
    "\n",
    "FOR EXAMPLE: On weekend, bus line 63 operates between 6:20 AM and 9:30 PM. During that period, it completes its route 35 times. \n"
   ]
  },
  {
   "cell_type": "code",
   "execution_count": 4,
   "metadata": {},
   "outputs": [
    {
     "data": {
      "text/html": [
       "<div>\n",
       "<style scoped>\n",
       "    .dataframe tbody tr th:only-of-type {\n",
       "        vertical-align: middle;\n",
       "    }\n",
       "\n",
       "    .dataframe tbody tr th {\n",
       "        vertical-align: top;\n",
       "    }\n",
       "\n",
       "    .dataframe thead th {\n",
       "        text-align: right;\n",
       "    }\n",
       "</style>\n",
       "<table border=\"1\" class=\"dataframe\">\n",
       "  <thead>\n",
       "    <tr style=\"text-align: right;\">\n",
       "      <th></th>\n",
       "      <th>time_of_week</th>\n",
       "      <th>bus_num</th>\n",
       "      <th>first_bus</th>\n",
       "      <th>last_bus</th>\n",
       "      <th>frequency</th>\n",
       "    </tr>\n",
       "  </thead>\n",
       "  <tbody>\n",
       "    <tr>\n",
       "      <th>45</th>\n",
       "      <td>weekend</td>\n",
       "      <td>63</td>\n",
       "      <td>06:20:00</td>\n",
       "      <td>21:30:00</td>\n",
       "      <td>35</td>\n",
       "    </tr>\n",
       "  </tbody>\n",
       "</table>\n",
       "</div>"
      ],
      "text/plain": [
       "   time_of_week  bus_num first_bus  last_bus  frequency\n",
       "45      weekend       63  06:20:00  21:30:00         35"
      ]
     },
     "execution_count": 4,
     "metadata": {},
     "output_type": "execute_result"
    }
   ],
   "source": [
    "# Getting bus line 63 and the day being weekend info\n",
    "df_times[(df_times['bus_num'] ==63) & (df_times['time_of_week']=='weekend')]"
   ]
  },
  {
   "cell_type": "markdown",
   "metadata": {},
   "source": [
    "### 3. Passengers Table:\n",
    "* **day** - the day of the week\n",
    "* **bus_num** - the number of the bus line\n",
    "* **average_num_passengers** - the average number of passengers per route.\n"
   ]
  },
  {
   "cell_type": "code",
   "execution_count": 5,
   "metadata": {},
   "outputs": [
    {
     "data": {
      "text/html": [
       "<div>\n",
       "<style scoped>\n",
       "    .dataframe tbody tr th:only-of-type {\n",
       "        vertical-align: middle;\n",
       "    }\n",
       "\n",
       "    .dataframe tbody tr th {\n",
       "        vertical-align: top;\n",
       "    }\n",
       "\n",
       "    .dataframe thead th {\n",
       "        text-align: right;\n",
       "    }\n",
       "</style>\n",
       "<table border=\"1\" class=\"dataframe\">\n",
       "  <thead>\n",
       "    <tr style=\"text-align: right;\">\n",
       "      <th></th>\n",
       "      <th>day</th>\n",
       "      <th>bus_num</th>\n",
       "      <th>average_num_passengers</th>\n",
       "    </tr>\n",
       "  </thead>\n",
       "  <tbody>\n",
       "    <tr>\n",
       "      <th>0</th>\n",
       "      <td>Monday</td>\n",
       "      <td>1</td>\n",
       "      <td>23</td>\n",
       "    </tr>\n",
       "    <tr>\n",
       "      <th>1</th>\n",
       "      <td>Tuesday</td>\n",
       "      <td>1</td>\n",
       "      <td>21</td>\n",
       "    </tr>\n",
       "    <tr>\n",
       "      <th>2</th>\n",
       "      <td>Wednesday</td>\n",
       "      <td>1</td>\n",
       "      <td>36</td>\n",
       "    </tr>\n",
       "    <tr>\n",
       "      <th>3</th>\n",
       "      <td>Thursday</td>\n",
       "      <td>1</td>\n",
       "      <td>27</td>\n",
       "    </tr>\n",
       "    <tr>\n",
       "      <th>4</th>\n",
       "      <td>Friday</td>\n",
       "      <td>1</td>\n",
       "      <td>21</td>\n",
       "    </tr>\n",
       "  </tbody>\n",
       "</table>\n",
       "</div>"
      ],
      "text/plain": [
       "         day  bus_num  average_num_passengers\n",
       "0     Monday        1                      23\n",
       "1    Tuesday        1                      21\n",
       "2  Wednesday        1                      36\n",
       "3   Thursday        1                      27\n",
       "4     Friday        1                      21"
      ]
     },
     "execution_count": 5,
     "metadata": {},
     "output_type": "execute_result"
    }
   ],
   "source": [
    "#Reading the passengers' sheet from the dataset\n",
    "df_passengers = pd.read_excel('Assessment_Data_Sababi.xlsx', sheet_name='Passengers')\n",
    "df_passengers.head()"
   ]
  },
  {
   "cell_type": "markdown",
   "metadata": {},
   "source": [
    "\n",
    "FOR EXAMPLE: Bus line 63 averages 15 passengers on Wednesdays and 38 passengers on Saturdays. "
   ]
  },
  {
   "cell_type": "code",
   "execution_count": 6,
   "metadata": {},
   "outputs": [
    {
     "data": {
      "text/html": [
       "<div>\n",
       "<style scoped>\n",
       "    .dataframe tbody tr th:only-of-type {\n",
       "        vertical-align: middle;\n",
       "    }\n",
       "\n",
       "    .dataframe tbody tr th {\n",
       "        vertical-align: top;\n",
       "    }\n",
       "\n",
       "    .dataframe thead th {\n",
       "        text-align: right;\n",
       "    }\n",
       "</style>\n",
       "<table border=\"1\" class=\"dataframe\">\n",
       "  <thead>\n",
       "    <tr style=\"text-align: right;\">\n",
       "      <th></th>\n",
       "      <th>day</th>\n",
       "      <th>bus_num</th>\n",
       "      <th>average_num_passengers</th>\n",
       "    </tr>\n",
       "  </thead>\n",
       "  <tbody>\n",
       "    <tr>\n",
       "      <th>128</th>\n",
       "      <td>Wednesday</td>\n",
       "      <td>63</td>\n",
       "      <td>15</td>\n",
       "    </tr>\n",
       "    <tr>\n",
       "      <th>131</th>\n",
       "      <td>Saturday</td>\n",
       "      <td>63</td>\n",
       "      <td>38</td>\n",
       "    </tr>\n",
       "  </tbody>\n",
       "</table>\n",
       "</div>"
      ],
      "text/plain": [
       "           day  bus_num  average_num_passengers\n",
       "128  Wednesday       63                      15\n",
       "131   Saturday       63                      38"
      ]
     },
     "execution_count": 6,
     "metadata": {},
     "output_type": "execute_result"
    }
   ],
   "source": [
    "# Getting bus line 63 info, the day being Wednesday and Saturday\n",
    "days = ['Wednesday', 'Saturday']\n",
    "df_passengers[(df_passengers['bus_num'] == 63) & (df_passengers['day'].isin(days))]"
   ]
  },
  {
   "cell_type": "markdown",
   "metadata": {},
   "source": [
    "## Data Preparation\n",
    "The tables were joined by **bus_num** to create a combined DataFrame for analysis."
   ]
  },
  {
   "cell_type": "code",
   "execution_count": 7,
   "metadata": {},
   "outputs": [
    {
     "data": {
      "text/html": [
       "<div>\n",
       "<style scoped>\n",
       "    .dataframe tbody tr th:only-of-type {\n",
       "        vertical-align: middle;\n",
       "    }\n",
       "\n",
       "    .dataframe tbody tr th {\n",
       "        vertical-align: top;\n",
       "    }\n",
       "\n",
       "    .dataframe thead th {\n",
       "        text-align: right;\n",
       "    }\n",
       "</style>\n",
       "<table border=\"1\" class=\"dataframe\">\n",
       "  <thead>\n",
       "    <tr style=\"text-align: right;\">\n",
       "      <th></th>\n",
       "      <th>bus_num</th>\n",
       "      <th>intercity</th>\n",
       "      <th>type</th>\n",
       "      <th>num_stops</th>\n",
       "      <th>fare</th>\n",
       "      <th>time_of_week</th>\n",
       "      <th>first_bus</th>\n",
       "      <th>last_bus</th>\n",
       "      <th>frequency</th>\n",
       "      <th>day</th>\n",
       "      <th>average_num_passengers</th>\n",
       "    </tr>\n",
       "  </thead>\n",
       "  <tbody>\n",
       "    <tr>\n",
       "      <th>0</th>\n",
       "      <td>1</td>\n",
       "      <td>N</td>\n",
       "      <td>regular</td>\n",
       "      <td>17</td>\n",
       "      <td>3.5</td>\n",
       "      <td>weekday</td>\n",
       "      <td>05:00:00</td>\n",
       "      <td>22:30:00</td>\n",
       "      <td>10</td>\n",
       "      <td>Monday</td>\n",
       "      <td>23</td>\n",
       "    </tr>\n",
       "    <tr>\n",
       "      <th>1</th>\n",
       "      <td>1</td>\n",
       "      <td>N</td>\n",
       "      <td>regular</td>\n",
       "      <td>17</td>\n",
       "      <td>3.5</td>\n",
       "      <td>weekday</td>\n",
       "      <td>05:00:00</td>\n",
       "      <td>22:30:00</td>\n",
       "      <td>10</td>\n",
       "      <td>Tuesday</td>\n",
       "      <td>21</td>\n",
       "    </tr>\n",
       "    <tr>\n",
       "      <th>2</th>\n",
       "      <td>1</td>\n",
       "      <td>N</td>\n",
       "      <td>regular</td>\n",
       "      <td>17</td>\n",
       "      <td>3.5</td>\n",
       "      <td>weekday</td>\n",
       "      <td>05:00:00</td>\n",
       "      <td>22:30:00</td>\n",
       "      <td>10</td>\n",
       "      <td>Wednesday</td>\n",
       "      <td>36</td>\n",
       "    </tr>\n",
       "    <tr>\n",
       "      <th>3</th>\n",
       "      <td>1</td>\n",
       "      <td>N</td>\n",
       "      <td>regular</td>\n",
       "      <td>17</td>\n",
       "      <td>3.5</td>\n",
       "      <td>weekday</td>\n",
       "      <td>05:00:00</td>\n",
       "      <td>22:30:00</td>\n",
       "      <td>10</td>\n",
       "      <td>Thursday</td>\n",
       "      <td>27</td>\n",
       "    </tr>\n",
       "    <tr>\n",
       "      <th>4</th>\n",
       "      <td>1</td>\n",
       "      <td>N</td>\n",
       "      <td>regular</td>\n",
       "      <td>17</td>\n",
       "      <td>3.5</td>\n",
       "      <td>weekday</td>\n",
       "      <td>05:00:00</td>\n",
       "      <td>22:30:00</td>\n",
       "      <td>10</td>\n",
       "      <td>Friday</td>\n",
       "      <td>21</td>\n",
       "    </tr>\n",
       "  </tbody>\n",
       "</table>\n",
       "</div>"
      ],
      "text/plain": [
       "   bus_num intercity     type  num_stops  fare time_of_week first_bus  \\\n",
       "0        1         N  regular         17   3.5      weekday  05:00:00   \n",
       "1        1         N  regular         17   3.5      weekday  05:00:00   \n",
       "2        1         N  regular         17   3.5      weekday  05:00:00   \n",
       "3        1         N  regular         17   3.5      weekday  05:00:00   \n",
       "4        1         N  regular         17   3.5      weekday  05:00:00   \n",
       "\n",
       "   last_bus  frequency        day  average_num_passengers  \n",
       "0  22:30:00         10     Monday                      23  \n",
       "1  22:30:00         10    Tuesday                      21  \n",
       "2  22:30:00         10  Wednesday                      36  \n",
       "3  22:30:00         10   Thursday                      27  \n",
       "4  22:30:00         10     Friday                      21  "
      ]
     },
     "execution_count": 7,
     "metadata": {},
     "output_type": "execute_result"
    }
   ],
   "source": [
    "# Joining the DataFrames and creating a new DataFrame\n",
    "# The unique identifier is the 'bus_num'\n",
    "df = df_routes.merge(df_times, on='bus_num')\n",
    "df = df.merge(df_passengers, on='bus_num')\n",
    "df.head()"
   ]
  },
  {
   "cell_type": "code",
   "execution_count": 8,
   "metadata": {},
   "outputs": [
    {
     "name": "stdout",
     "output_type": "stream",
     "text": [
      "<class 'pandas.core.frame.DataFrame'>\n",
      "RangeIndex: 378 entries, 0 to 377\n",
      "Data columns (total 11 columns):\n",
      " #   Column                  Non-Null Count  Dtype  \n",
      "---  ------                  --------------  -----  \n",
      " 0   bus_num                 378 non-null    int64  \n",
      " 1   intercity               378 non-null    object \n",
      " 2   type                    378 non-null    object \n",
      " 3   num_stops               378 non-null    int64  \n",
      " 4   fare                    378 non-null    float64\n",
      " 5   time_of_week            378 non-null    object \n",
      " 6   first_bus               378 non-null    object \n",
      " 7   last_bus                378 non-null    object \n",
      " 8   frequency               378 non-null    int64  \n",
      " 9   day                     378 non-null    object \n",
      " 10  average_num_passengers  378 non-null    int64  \n",
      "dtypes: float64(1), int64(4), object(6)\n",
      "memory usage: 32.6+ KB\n"
     ]
    }
   ],
   "source": [
    "df.info()"
   ]
  },
  {
   "cell_type": "markdown",
   "metadata": {},
   "source": [
    "The combined data has 378 rows and 11 columns with no missing or duplicate values."
   ]
  },
  {
   "cell_type": "code",
   "execution_count": 9,
   "metadata": {},
   "outputs": [
    {
     "data": {
      "text/plain": [
       "0"
      ]
     },
     "execution_count": 9,
     "metadata": {},
     "output_type": "execute_result"
    }
   ],
   "source": [
    "# Confirming that the dataset has no duplicates\n",
    "len(df[df.duplicated()])"
   ]
  },
  {
   "cell_type": "markdown",
   "metadata": {},
   "source": [
    "## Exploratory Data Analysis (EDA)\n",
    "To improve operations, the company considers discontinuing some weekend bus lines if operational costs exceed 50% of weekend revenue. On average, it costs the company $2 per stop on each route."
   ]
  },
  {
   "cell_type": "markdown",
   "metadata": {},
   "source": [
    "**Identifying Problematic Bus Lines**"
   ]
  },
  {
   "cell_type": "code",
   "execution_count": 10,
   "metadata": {},
   "outputs": [
    {
     "name": "stdout",
     "output_type": "stream",
     "text": [
      "Number of problematic bus lines: 13\n"
     ]
    }
   ],
   "source": [
    "\n",
    "# Calculating operational costs for each bus on weekends\n",
    "df['operational_costs'] = df[\"num_stops\"] * df[\"frequency\"] * 2\n",
    "\n",
    "# Calculate total revenue on weekends\n",
    "df['total_revenue'] = df['average_num_passengers'] * df['fare'] * df['frequency']\n",
    "\n",
    "## Flagging problematic bus lines\n",
    "df[\"problematic\"] = df['operational_costs'] > 0.5 * df['total_revenue']\n",
    "\n",
    "# Keeping only the first occurrence of each unique bus line\n",
    "problematic_df = df[df[\"problematic\"]].drop_duplicates(subset='bus_num')\n",
    "\n",
    "# Counting the number of problematic bus lines\n",
    "num_problematic_lines = len(problematic_df)\n",
    "\n",
    "print(\"Number of problematic bus lines:\", num_problematic_lines)\n"
   ]
  },
  {
   "cell_type": "code",
   "execution_count": 11,
   "metadata": {},
   "outputs": [
    {
     "data": {
      "text/plain": [
       "[1, 2, 8, 10, 14, 18, 22, 28, 35, 58, 63, 68, 85]"
      ]
     },
     "execution_count": 11,
     "metadata": {},
     "output_type": "execute_result"
    }
   ],
   "source": [
    "# Getting the 'bus_num' that were flagged as problematic\n",
    "problematic_df['bus_num'].to_list()"
   ]
  },
  {
   "cell_type": "markdown",
   "metadata": {},
   "source": [
    "To find problematic bus lines, I calculated the weekend operational costs and revenue for each route.\n",
    "\n",
    "Operational costs per route were calculated as:\n",
    "\n",
    "*num_stops * frequency * $2*\n",
    "\n",
    "Revenue per route was calculated as:\n",
    "\n",
    "*average_num_passengers * fare * frequency*\n",
    "\n",
    "Any bus line where weekend operational costs exceeded 50% of revenue was flagged as **problematic**.\n",
    "\n",
    "**13 bus lines** were identified as problematic using this criteria. These may be candidates for reductions or improvements."
   ]
  },
  {
   "cell_type": "markdown",
   "metadata": {},
   "source": [
    "**Lowest Revenue Bus Line**"
   ]
  },
  {
   "cell_type": "markdown",
   "metadata": {},
   "source": [
    "To find the lowest revenue bus line, I calculated the total weekly revenue for each route."
   ]
  },
  {
   "cell_type": "code",
   "execution_count": 12,
   "metadata": {},
   "outputs": [
    {
     "name": "stdout",
     "output_type": "stream",
     "text": [
      "Bus line with the lowest average weekly revenue:\n",
      "bus_num                      1.0\n",
      "average_weekly_revenue    1660.0\n",
      "Name: 0, dtype: float64\n"
     ]
    }
   ],
   "source": [
    "# Calculate daily revenue\n",
    "df['daily_revenue'] = df['average_num_passengers'] * df['fare'] * df['frequency']\n",
    "\n",
    "# Groupping by bus_num and calculating total weekly revenue\n",
    "weekly_revenue_df = df.groupby('bus_num')['daily_revenue'].sum().reset_index()\n",
    "\n",
    "# Calculating average weekly revenue\n",
    "weekly_revenue_df['average_weekly_revenue'] = weekly_revenue_df['daily_revenue'] / 7\n",
    "\n",
    "# Finding the bus line with the lowest average weekly revenue\n",
    "lowest_revenue_bus_line = weekly_revenue_df.loc[weekly_revenue_df['average_weekly_revenue'].idxmin()]\n",
    "\n",
    "print(\"Bus line with the lowest average weekly revenue:\")\n",
    "print(lowest_revenue_bus_line[['bus_num', 'average_weekly_revenue']])\n"
   ]
  },
  {
   "cell_type": "markdown",
   "metadata": {},
   "source": [
    "**Bus line 1** had the lowest average weekly revenue of **$1660**. This line could be improved to generate more profit."
   ]
  },
  {
   "cell_type": "markdown",
   "metadata": {},
   "source": [
    "**Revenue Analysis by Day**\n",
    "\n",
    "A bar chart was created to analyze revenue by day of the week:"
   ]
  },
  {
   "cell_type": "code",
   "execution_count": 13,
   "metadata": {},
   "outputs": [
    {
     "data": {
      "image/png": "[encoded data removed]",
      "text/plain": [
       "<Figure size 1000x600 with 1 Axes>"
      ]
     },
     "metadata": {},
     "output_type": "display_data"
    }
   ],
   "source": [
    "import matplotlib.pyplot as plt\n",
    "import seaborn as sns\n",
    "\n",
    "# Grouping by 'day' and calculate total daily revenue\n",
    "total_daily_revenue = df.groupby('day')['daily_revenue'].sum()\n",
    "\n",
    "# Sortting the total daily revenue from highest to lowest\n",
    "sorted_revenue = total_daily_revenue.sort_values(ascending=False)\n",
    "\n",
    "# Setting Seaborn style\n",
    "sns.set_theme()\n",
    "\n",
    "# Plotting the bar chart using Seaborn\n",
    "plt.figure(figsize=(10, 6))\n",
    "bars = sns.barplot(x=sorted_revenue.index, y=sorted_revenue, color='blue')\n",
    "\n",
    "# Adding revenue labels at the top of each bar\n",
    "for bar in bars.patches:\n",
    "    plt.text(bar.get_x() + bar.get_width() / 2 - 0.1, \n",
    "             bar.get_height() + 10, f\"${bar.get_height():,.2f}\", ha='center')\n",
    "\n",
    "plt.title('Total Revenue Distribution Across Days')\n",
    "plt.xlabel('Day')\n",
    "plt.ylabel('Total Revenue ($)')\n",
    "plt.xticks(rotation=45)\n",
    "plt.show()\n"
   ]
  },
  {
   "cell_type": "markdown",
   "metadata": {},
   "source": [
    "* The day with the **highest** total revenue is **Friday** with a total revenue of $290480.50\n",
    "* The day with the **lowest** total revenue is **Saturday** with a total revenue of $241388.50\n"
   ]
  },
  {
   "cell_type": "markdown",
   "metadata": {},
   "source": [
    "### Summary of Findings\n",
    "1. **Problematic Bus Lines:** Identified 13 bus lines facing potential operational issues over weekends due to high costs compared to revenue.\n",
    "2. **Lowest Revenue Bus Line:** Bus line 1 exhibited the lowest average weekly revenue from ticket sales, signaling a potential area for improvement.\n",
    "3. **Revenue Trends Across Days:** Friday emerged as the most profitable day, while Saturday experienced the lowest revenue. \n",
    "\n",
    "### Recommendations\n",
    "1. **Optimize Problematic Bus Lines:** Consider discontinuing or restructuring bus lines flagged as problematic to mitigate financial losses.\n",
    "2. **Revenue Enhancement:** Explore strategies to increase revenue on weekends, especially on Saturdays, through promotional offers, route adjustments, or marketing campaigns.\n",
    "3. **Efficiency Improvements:** Analyze operational processes to identify areas for cost reduction and efficiency enhancement, potentially reducing operational costs per route.\n",
    "\n",
    "### Conclusion\n",
    "In conclusion, this analysis of Metro Transport's bus line data found several opportunities to optimize operations. By addressing problematic and low-revenue routes and tailoring schedules to passenger demand, the company can improve profitability. The findings provide data-driven recommendations to guide decision making. Further analysis could examine seasonal trends and geographic demand."
   ]
  }
 ],
 "metadata": {
  "kernelspec": {
   "display_name": "spark-env",
   "language": "python",
   "name": "python3"
  },
  "language_info": {
   "codemirror_mode": {
    "name": "ipython",
    "version": 3
   },
   "file_extension": ".py",
   "mimetype": "text/x-python",
   "name": "python",
   "nbconvert_exporter": "python",
   "pygments_lexer": "ipython3",
   "version": "3.10.12"
  }
 },
 "nbformat": 4,
 "nbformat_minor": 2
}
